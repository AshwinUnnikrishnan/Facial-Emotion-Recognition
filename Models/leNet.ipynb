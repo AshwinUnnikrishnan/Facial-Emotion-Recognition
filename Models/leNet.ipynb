{
 "cells": [
  {
   "cell_type": "code",
   "execution_count": 29,
   "metadata": {
    "_cell_guid": "b1076dfc-b9ad-4769-8c92-a6c4dae69d19",
    "_uuid": "8f2839f25d086af736a60e9eeb907d3b93b6e0e5",
    "execution": {
     "iopub.execute_input": "2022-05-06T03:34:17.954697Z",
     "iopub.status.busy": "2022-05-06T03:34:17.954415Z",
     "iopub.status.idle": "2022-05-06T03:34:17.969393Z",
     "shell.execute_reply": "2022-05-06T03:34:17.968636Z",
     "shell.execute_reply.started": "2022-05-06T03:34:17.954665Z"
    }
   },
   "outputs": [],
   "source": [
    "# Importing the Required Libraries \n",
    "\n",
    "import pandas as pd \n",
    "import numpy as np\n",
    "from skimage.io import imread\n",
    "import matplotlib.pyplot as plt \n",
    "import matplotlib.image as mpimg\n",
    "import torch\n",
    "import torch.nn as nn\n",
    "import torch.nn.functional as F\n",
    "import torchvision\n",
    "import random\n",
    "import matplotlib.image as img\n",
    "from torch.utils.data import Dataset, DataLoader, ConcatDataset\n",
    "from sklearn.model_selection import train_test_split\n",
    "from skimage.io import imread\n",
    "from sklearn.metrics import accuracy_score\n",
    "from tqdm import tqdm\n",
    "from torch.autograd import Variable\n",
    "from torch.nn import Linear, ReLU, CrossEntropyLoss, Sequential, Conv2d, MaxPool2d, Module, Softmax, BatchNorm2d, Dropout\n",
    "from torch.optim import Adam, SGD\n",
    "from torchvision import transforms as T, datasets \n",
    "from torch.utils.data import DataLoader \n",
    "from torchvision.utils import make_grid\n",
    "from sklearn.metrics import confusion_matrix\n",
    "from sklearn.metrics import plot_confusion_matrix\n",
    "from sklearn.metrics import multilabel_confusion_matrix\n",
    "from sklearn.metrics import classification_report\n",
    "import seaborn as sns\n",
    "\n",
    "# from helper import show_grid\n",
    "%matplotlib inline"
   ]
  },
  {
   "cell_type": "code",
   "execution_count": 30,
   "metadata": {
    "execution": {
     "iopub.execute_input": "2022-05-06T03:34:17.972561Z",
     "iopub.status.busy": "2022-05-06T03:34:17.971995Z",
     "iopub.status.idle": "2022-05-06T03:34:17.984244Z",
     "shell.execute_reply": "2022-05-06T03:34:17.983533Z",
     "shell.execute_reply.started": "2022-05-06T03:34:17.972521Z"
    }
   },
   "outputs": [
    {
     "name": "stdout",
     "output_type": "stream",
     "text": [
      "The device we are on :cuda\n"
     ]
    }
   ],
   "source": [
    "device = torch.device('cuda' if torch.cuda.is_available() else 'cpu')\n",
    "print (\"The device we are on :{}\".format(device))"
   ]
  },
  {
   "cell_type": "code",
   "execution_count": 31,
   "metadata": {
    "execution": {
     "iopub.execute_input": "2022-05-06T03:34:17.986198Z",
     "iopub.status.busy": "2022-05-06T03:34:17.985777Z",
     "iopub.status.idle": "2022-05-06T03:34:17.995718Z",
     "shell.execute_reply": "2022-05-06T03:34:17.994994Z",
     "shell.execute_reply.started": "2022-05-06T03:34:17.986148Z"
    }
   },
   "outputs": [],
   "source": [
    "import os\n",
    "os.listdir('../input/facial-expression-dataset-image-folders-fer2013/data')\n",
    "uni_path = '../input/facial-expression-dataset-image-folders-fer2013/data'\n",
    "\n",
    "# os.listdir('C:/Users/shukl/OneDrive/Desktop/ML_project/Dataset')\n",
    "# uni_path = 'C:/Users/shukl/OneDrive/Desktop/ML_project/Dataset'"
   ]
  },
  {
   "cell_type": "code",
   "execution_count": 32,
   "metadata": {
    "execution": {
     "iopub.execute_input": "2022-05-06T03:34:17.998277Z",
     "iopub.status.busy": "2022-05-06T03:34:17.997453Z",
     "iopub.status.idle": "2022-05-06T03:34:18.003990Z",
     "shell.execute_reply": "2022-05-06T03:34:18.003212Z",
     "shell.execute_reply.started": "2022-05-06T03:34:17.998234Z"
    }
   },
   "outputs": [
    {
     "name": "stdout",
     "output_type": "stream",
     "text": [
      "<class 'str'>\n"
     ]
    }
   ],
   "source": [
    "# Getting the path to the dataset\n",
    "\n",
    "train_path=uni_path+'/train'\n",
    "val_path=uni_path+'/val'\n",
    "test_path=uni_path+'/test'\n",
    "\n",
    "print (type(train_path))"
   ]
  },
  {
   "cell_type": "code",
   "execution_count": 33,
   "metadata": {
    "execution": {
     "iopub.execute_input": "2022-05-06T03:34:18.007409Z",
     "iopub.status.busy": "2022-05-06T03:34:18.007042Z",
     "iopub.status.idle": "2022-05-06T03:34:22.443662Z",
     "shell.execute_reply": "2022-05-06T03:34:22.442881Z",
     "shell.execute_reply.started": "2022-05-06T03:34:18.007373Z"
    }
   },
   "outputs": [
    {
     "name": "stdout",
     "output_type": "stream",
     "text": [
      "28709\n",
      "3589\n",
      "3589\n"
     ]
    }
   ],
   "source": [
    "# Image Transformation and Augumentation \n",
    "train_transform = T.Compose([\n",
    "    T.Grayscale(num_output_channels=1),\n",
    "    T.Resize(size=(48,48)),\n",
    "    T.RandomRotation(degrees = (-20, +20)),\n",
    "    T.ToTensor()\n",
    "])\n",
    "\n",
    "valid_transform = T.Compose([\n",
    "    T.Grayscale(num_output_channels=1),\n",
    "    T.Resize(size=(48,48)),\n",
    "    T.ToTensor()\n",
    "])\n",
    "\n",
    "test_transform = T.Compose([\n",
    "    T.Grayscale(num_output_channels=1),\n",
    "    T.Resize(size=(48,48)),\n",
    "    T.ToTensor()\n",
    "])\n",
    "\n",
    "train_ds = datasets.ImageFolder(train_path, transform = train_transform)\n",
    "valid_ds = datasets.ImageFolder(val_path, transform = valid_transform)\n",
    "test_ds = datasets.ImageFolder(test_path, transform = test_transform)\n",
    "print (len(train_ds))\n",
    "print (len(valid_ds))\n",
    "print (len(test_ds))"
   ]
  },
  {
   "cell_type": "code",
   "execution_count": 34,
   "metadata": {
    "execution": {
     "iopub.execute_input": "2022-05-06T03:34:22.446112Z",
     "iopub.status.busy": "2022-05-06T03:34:22.445308Z",
     "iopub.status.idle": "2022-05-06T03:34:22.456081Z",
     "shell.execute_reply": "2022-05-06T03:34:22.455346Z",
     "shell.execute_reply.started": "2022-05-06T03:34:22.446070Z"
    }
   },
   "outputs": [
    {
     "name": "stdout",
     "output_type": "stream",
     "text": [
      "449\n",
      "57\n",
      "57\n"
     ]
    }
   ],
   "source": [
    "# Definging the batch size \n",
    "batch_size = 64\n",
    "\n",
    "# Loading the Dataset \n",
    "train_dl = DataLoader(train_ds, batch_size = batch_size, shuffle=True)\n",
    "valid_dl = DataLoader(valid_ds, batch_size = batch_size)\n",
    "test_dl = DataLoader(test_ds, batch_size = batch_size)\n",
    "print (len(train_dl))\n",
    "print (len(valid_dl))\n",
    "print (len(test_dl))"
   ]
  },
  {
   "cell_type": "code",
   "execution_count": 35,
   "metadata": {
    "execution": {
     "iopub.execute_input": "2022-05-06T03:34:22.458085Z",
     "iopub.status.busy": "2022-05-06T03:34:22.457270Z",
     "iopub.status.idle": "2022-05-06T03:34:22.467183Z",
     "shell.execute_reply": "2022-05-06T03:34:22.466435Z",
     "shell.execute_reply.started": "2022-05-06T03:34:22.458049Z"
    }
   },
   "outputs": [],
   "source": [
    "# Building The CNN model\n",
    "\n",
    "class Net(Module):   \n",
    "    def __init__(self):\n",
    "        super(Net, self).__init__()\n",
    "\n",
    "        self.cnn_layers = Sequential(\n",
    "            # Defining a 2D convolution layer\n",
    "            Conv2d(1, 4, kernel_size=3, stride=1, padding=1),\n",
    "            BatchNorm2d(4),\n",
    "            ReLU(inplace=True),\n",
    "            MaxPool2d(kernel_size=2, stride=2),\n",
    "            # Defining another 2D convolution layer\n",
    "            Conv2d(4, 4, kernel_size=3, stride=1, padding=1),\n",
    "            BatchNorm2d(4),\n",
    "            ReLU(inplace=True),\n",
    "            MaxPool2d(kernel_size=2, stride=2),\n",
    "        )\n",
    "\n",
    "        self.linear_layers = Sequential(\n",
    "            Linear(16 * 6 * 6, 7)\n",
    "        )\n",
    "\n",
    "    # Defining the forward pass    \n",
    "    def forward(self, x):\n",
    "        x = self.cnn_layers(x)\n",
    "        x = x.view(x.size(0), -1)\n",
    "        x = self.linear_layers(x)\n",
    "        return x"
   ]
  },
  {
   "cell_type": "code",
   "execution_count": 36,
   "metadata": {
    "execution": {
     "iopub.execute_input": "2022-05-06T03:34:22.469525Z",
     "iopub.status.busy": "2022-05-06T03:34:22.469165Z",
     "iopub.status.idle": "2022-05-06T03:34:22.478829Z",
     "shell.execute_reply": "2022-05-06T03:34:22.478179Z",
     "shell.execute_reply.started": "2022-05-06T03:34:22.469491Z"
    }
   },
   "outputs": [],
   "source": [
    "model = Net()"
   ]
  },
  {
   "cell_type": "markdown",
   "metadata": {},
   "source": []
  },
  {
   "cell_type": "code",
   "execution_count": 37,
   "metadata": {
    "execution": {
     "iopub.execute_input": "2022-05-06T03:34:22.482086Z",
     "iopub.status.busy": "2022-05-06T03:34:22.480578Z",
     "iopub.status.idle": "2022-05-06T03:34:22.503275Z",
     "shell.execute_reply": "2022-05-06T03:34:22.502226Z",
     "shell.execute_reply.started": "2022-05-06T03:34:22.482059Z"
    }
   },
   "outputs": [],
   "source": [
    "# Building Trainer using Train Loader and Validation Loader \n",
    "\n",
    "class Trainer():\n",
    "    \n",
    "    def __init__(self, criterion, optimizer, schedular):\n",
    "        self.criterion = criterion\n",
    "        self.optimizer = optimizer\n",
    "        self.schedular = schedular\n",
    "        \n",
    "    def train_batch_loop(self, model, trainloader):\n",
    "        \n",
    "        train_acc = 0.0\n",
    "        train_loss = 0.0\n",
    "        \n",
    "        for images, labels in tqdm(trainloader):\n",
    "            \n",
    "            images = images.to(device)\n",
    "            labels = labels.to(device)\n",
    "            \n",
    "            logits = model(images)\n",
    "            loss = self.criterion(logits, labels)\n",
    "            \n",
    "            self.optimizer.zero_grad()\n",
    "            loss.backward()\n",
    "            self.optimizer.step()\n",
    "            \n",
    "            train_loss = train_loss + loss.item()\n",
    "            \n",
    "            softmax = torch.exp(logits).cpu()\n",
    "            \n",
    "            prob = list(softmax.detach().numpy())\n",
    "            \n",
    "            logits = np.argmax(prob, axis=1)\n",
    "            labels = labels.detach().cpu().numpy()\n",
    "            train_acc = train_acc + accuracy_score(logits, labels)\n",
    "            \n",
    "        return train_acc/ len(trainloader), train_loss/ len(trainloader)\n",
    "    \n",
    "    def valid_batch_loop(self, model, validloader):\n",
    "        \n",
    "        valid_acc = 0.0\n",
    "        valid_loss = 0.0\n",
    "        \n",
    "        for images, labels in tqdm(validloader):\n",
    "            \n",
    "            images = images.to(device)\n",
    "            labels = labels.to(device)\n",
    "            \n",
    "            logits = model(images)\n",
    "            loss = self.criterion(logits, labels)\n",
    "                        \n",
    "            valid_loss = valid_loss + loss.item()\n",
    "            softmax = torch.exp(logits).cpu()\n",
    "            prob = list(softmax.detach().numpy())\n",
    "            logits = np.argmax(prob, axis=1)\n",
    "            labels = labels.detach().cpu().numpy()\n",
    "            valid_acc = valid_acc + accuracy_score(logits, labels)\n",
    "            _\n",
    "        return valid_acc/ len(validloader), valid_loss/ len(validloader)\n",
    "    \n",
    "    def test_batch_loop(self, model, testloader):\n",
    "        \n",
    "        test_acc = 0.0\n",
    "        test_loss = 0.0\n",
    "        \n",
    "        test_predictions = []\n",
    "        test_labels = []\n",
    "        \n",
    "        for images, labels in tqdm(testloader):\n",
    "            \n",
    "            images = images.to(device)\n",
    "            labels = labels.to(device)\n",
    "            \n",
    "            logits = model(images)\n",
    "            loss = self.criterion(logits, labels)\n",
    "                        \n",
    "            test_loss = test_loss + loss.item()\n",
    "            softmax = torch.exp(logits).cpu()\n",
    "            prob = list(softmax.detach().numpy())\n",
    "            logits = np.argmax(prob, axis=1)\n",
    "            labels = labels.detach().cpu().numpy()\n",
    "            test_acc = test_acc + accuracy_score(logits, labels)\n",
    "            test_predictions.append(logits)\n",
    "            test_labels.append(labels)\n",
    "            _\n",
    "        return test_predictions , test_labels ,test_acc/ len(testloader), test_loss/ len(testloader)\n",
    "    \n",
    "    def fit(self,model, trainloader, validloader, epochs):\n",
    "        \n",
    "       \n",
    "        model = model.to(device)\n",
    "        valid_min_loss = np.Inf\n",
    "        \n",
    "        training_loss = []\n",
    "        validation_loss = []\n",
    "        train_acc = []\n",
    "        val_acc = []\n",
    "        \n",
    "        \n",
    "        for i in range(epochs):            \n",
    "            \n",
    "            # Training of Model\n",
    "            model.train()\n",
    "            avg_train_acc, avg_train_loss = self.train_batch_loop(model, trainloader)\n",
    "            \n",
    "            # Storing train loss\n",
    "            training_loss.append(avg_train_loss)\n",
    "            train_acc.append(avg_train_acc)\n",
    "            \n",
    "            # Validation of model\n",
    "            model.eval()\n",
    "            avg_valid_acc, avg_valid_loss = self.valid_batch_loop(model, validloader)\n",
    "            \n",
    "            # Storing Validation loss\n",
    "            validation_loss.append(avg_valid_loss)\n",
    "            val_acc.append(avg_valid_acc)\n",
    "\n",
    "            \n",
    "            # Getting Train and Validation Accuracies\n",
    "#             train_acc = avg_train_acc\n",
    "#             val_acc = avg_valid_acc\n",
    "            \n",
    "            print (\"Epoch:{}\".format(i), \"Train Loss:{}\".format(avg_train_loss), \"Validation Loss:{}\".format(avg_valid_loss))\n",
    "            \n",
    "        return train_acc, val_acc, training_loss, validation_loss\n",
    "                    \n",
    "            \n",
    "            \n",
    "            "
   ]
  },
  {
   "cell_type": "code",
   "execution_count": 38,
   "metadata": {
    "execution": {
     "iopub.execute_input": "2022-05-06T03:34:22.504894Z",
     "iopub.status.busy": "2022-05-06T03:34:22.504639Z",
     "iopub.status.idle": "2022-05-06T04:01:52.369065Z",
     "shell.execute_reply": "2022-05-06T04:01:52.368242Z",
     "shell.execute_reply.started": "2022-05-06T03:34:22.504860Z"
    }
   },
   "outputs": [
    {
     "name": "stderr",
     "output_type": "stream",
     "text": [
      "100%|██████████| 449/449 [00:26<00:00, 16.90it/s]\n",
      "100%|██████████| 57/57 [00:02<00:00, 20.04it/s]\n"
     ]
    },
    {
     "name": "stdout",
     "output_type": "stream",
     "text": [
      "Epoch:0 Train Loss:1.743596076434333 Validation Loss:1.6958199132952774\n"
     ]
    },
    {
     "name": "stderr",
     "output_type": "stream",
     "text": [
      "100%|██████████| 449/449 [00:26<00:00, 16.79it/s]\n",
      "100%|██████████| 57/57 [00:02<00:00, 19.14it/s]\n"
     ]
    },
    {
     "name": "stdout",
     "output_type": "stream",
     "text": [
      "Epoch:1 Train Loss:1.6571394165268454 Validation Loss:1.6285883815664994\n"
     ]
    },
    {
     "name": "stderr",
     "output_type": "stream",
     "text": [
      "100%|██████████| 449/449 [00:26<00:00, 16.87it/s]\n",
      "100%|██████████| 57/57 [00:02<00:00, 19.99it/s]\n"
     ]
    },
    {
     "name": "stdout",
     "output_type": "stream",
     "text": [
      "Epoch:2 Train Loss:1.6221877097552497 Validation Loss:1.5976812483971579\n"
     ]
    },
    {
     "name": "stderr",
     "output_type": "stream",
     "text": [
      "100%|██████████| 449/449 [00:26<00:00, 16.88it/s]\n",
      "100%|██████████| 57/57 [00:02<00:00, 19.64it/s]\n"
     ]
    },
    {
     "name": "stdout",
     "output_type": "stream",
     "text": [
      "Epoch:3 Train Loss:1.5951960915181047 Validation Loss:1.5613328720393933\n"
     ]
    },
    {
     "name": "stderr",
     "output_type": "stream",
     "text": [
      "100%|██████████| 449/449 [00:26<00:00, 16.80it/s]\n",
      "100%|██████████| 57/57 [00:02<00:00, 19.24it/s]\n"
     ]
    },
    {
     "name": "stdout",
     "output_type": "stream",
     "text": [
      "Epoch:4 Train Loss:1.570744712793482 Validation Loss:1.875020100882179\n"
     ]
    },
    {
     "name": "stderr",
     "output_type": "stream",
     "text": [
      "100%|██████████| 449/449 [00:26<00:00, 16.66it/s]\n",
      "100%|██████████| 57/57 [00:02<00:00, 19.11it/s]\n"
     ]
    },
    {
     "name": "stdout",
     "output_type": "stream",
     "text": [
      "Epoch:5 Train Loss:1.553332845192975 Validation Loss:1.52201090047234\n"
     ]
    },
    {
     "name": "stderr",
     "output_type": "stream",
     "text": [
      "100%|██████████| 449/449 [00:26<00:00, 16.94it/s]\n",
      "100%|██████████| 57/57 [00:02<00:00, 19.87it/s]\n"
     ]
    },
    {
     "name": "stdout",
     "output_type": "stream",
     "text": [
      "Epoch:6 Train Loss:1.5397314558050414 Validation Loss:1.536952441198784\n"
     ]
    },
    {
     "name": "stderr",
     "output_type": "stream",
     "text": [
      "100%|██████████| 449/449 [00:27<00:00, 16.49it/s]\n",
      "100%|██████████| 57/57 [00:02<00:00, 19.66it/s]\n"
     ]
    },
    {
     "name": "stdout",
     "output_type": "stream",
     "text": [
      "Epoch:7 Train Loss:1.5308406392821756 Validation Loss:1.554647187391917\n"
     ]
    },
    {
     "name": "stderr",
     "output_type": "stream",
     "text": [
      "100%|██████████| 449/449 [00:26<00:00, 16.75it/s]\n",
      "100%|██████████| 57/57 [00:03<00:00, 18.54it/s]\n"
     ]
    },
    {
     "name": "stdout",
     "output_type": "stream",
     "text": [
      "Epoch:8 Train Loss:1.522194157464467 Validation Loss:1.4910203887705218\n"
     ]
    },
    {
     "name": "stderr",
     "output_type": "stream",
     "text": [
      "100%|██████████| 449/449 [00:29<00:00, 15.47it/s]\n",
      "100%|██████████| 57/57 [00:03<00:00, 17.19it/s]\n"
     ]
    },
    {
     "name": "stdout",
     "output_type": "stream",
     "text": [
      "Epoch:9 Train Loss:1.5137590552225941 Validation Loss:1.4749047076492978\n"
     ]
    },
    {
     "name": "stderr",
     "output_type": "stream",
     "text": [
      "100%|██████████| 449/449 [00:29<00:00, 15.31it/s]\n",
      "100%|██████████| 57/57 [00:03<00:00, 17.31it/s]\n"
     ]
    },
    {
     "name": "stdout",
     "output_type": "stream",
     "text": [
      "Epoch:10 Train Loss:1.5046380885725297 Validation Loss:1.470360859444267\n"
     ]
    },
    {
     "name": "stderr",
     "output_type": "stream",
     "text": [
      "100%|██████████| 449/449 [00:28<00:00, 15.96it/s]\n",
      "100%|██████████| 57/57 [00:02<00:00, 19.08it/s]\n"
     ]
    },
    {
     "name": "stdout",
     "output_type": "stream",
     "text": [
      "Epoch:11 Train Loss:1.4981959166133856 Validation Loss:1.564316219405124\n"
     ]
    },
    {
     "name": "stderr",
     "output_type": "stream",
     "text": [
      "100%|██████████| 449/449 [00:28<00:00, 15.69it/s]\n",
      "100%|██████████| 57/57 [00:03<00:00, 18.70it/s]\n"
     ]
    },
    {
     "name": "stdout",
     "output_type": "stream",
     "text": [
      "Epoch:12 Train Loss:1.4937736008374356 Validation Loss:1.6044637231450332\n"
     ]
    },
    {
     "name": "stderr",
     "output_type": "stream",
     "text": [
      "100%|██████████| 449/449 [00:27<00:00, 16.07it/s]\n",
      "100%|██████████| 57/57 [00:02<00:00, 19.11it/s]\n"
     ]
    },
    {
     "name": "stdout",
     "output_type": "stream",
     "text": [
      "Epoch:13 Train Loss:1.4867777577487291 Validation Loss:1.5970486465253328\n"
     ]
    },
    {
     "name": "stderr",
     "output_type": "stream",
     "text": [
      "100%|██████████| 449/449 [00:27<00:00, 16.45it/s]\n",
      "100%|██████████| 57/57 [00:02<00:00, 19.39it/s]\n"
     ]
    },
    {
     "name": "stdout",
     "output_type": "stream",
     "text": [
      "Epoch:14 Train Loss:1.4822429941597919 Validation Loss:1.577554834516425\n"
     ]
    },
    {
     "name": "stderr",
     "output_type": "stream",
     "text": [
      "100%|██████████| 449/449 [00:27<00:00, 16.33it/s]\n",
      "100%|██████████| 57/57 [00:03<00:00, 17.11it/s]\n"
     ]
    },
    {
     "name": "stdout",
     "output_type": "stream",
     "text": [
      "Epoch:15 Train Loss:1.4768566233012619 Validation Loss:1.5744033257166545\n"
     ]
    },
    {
     "name": "stderr",
     "output_type": "stream",
     "text": [
      "100%|██████████| 449/449 [00:28<00:00, 15.96it/s]\n",
      "100%|██████████| 57/57 [00:03<00:00, 16.62it/s]\n"
     ]
    },
    {
     "name": "stdout",
     "output_type": "stream",
     "text": [
      "Epoch:16 Train Loss:1.4737710450964674 Validation Loss:1.5036229804942483\n"
     ]
    },
    {
     "name": "stderr",
     "output_type": "stream",
     "text": [
      "100%|██████████| 449/449 [00:27<00:00, 16.50it/s]\n",
      "100%|██████████| 57/57 [00:03<00:00, 18.75it/s]\n"
     ]
    },
    {
     "name": "stdout",
     "output_type": "stream",
     "text": [
      "Epoch:17 Train Loss:1.4698988156754085 Validation Loss:1.450594729498813\n"
     ]
    },
    {
     "name": "stderr",
     "output_type": "stream",
     "text": [
      "100%|██████████| 449/449 [00:27<00:00, 16.54it/s]\n",
      "100%|██████████| 57/57 [00:02<00:00, 19.14it/s]\n"
     ]
    },
    {
     "name": "stdout",
     "output_type": "stream",
     "text": [
      "Epoch:18 Train Loss:1.4703268773837186 Validation Loss:1.5410848824601424\n"
     ]
    },
    {
     "name": "stderr",
     "output_type": "stream",
     "text": [
      "100%|██████████| 449/449 [00:27<00:00, 16.08it/s]\n",
      "100%|██████████| 57/57 [00:03<00:00, 16.28it/s]\n"
     ]
    },
    {
     "name": "stdout",
     "output_type": "stream",
     "text": [
      "Epoch:19 Train Loss:1.4657837970219636 Validation Loss:1.433907989870038\n"
     ]
    },
    {
     "name": "stderr",
     "output_type": "stream",
     "text": [
      "100%|██████████| 449/449 [00:32<00:00, 13.99it/s]\n",
      "100%|██████████| 57/57 [00:03<00:00, 15.25it/s]\n"
     ]
    },
    {
     "name": "stdout",
     "output_type": "stream",
     "text": [
      "Epoch:20 Train Loss:1.4623238196086246 Validation Loss:1.641920539893602\n"
     ]
    },
    {
     "name": "stderr",
     "output_type": "stream",
     "text": [
      "100%|██████████| 449/449 [00:32<00:00, 13.67it/s]\n",
      "100%|██████████| 57/57 [00:03<00:00, 15.36it/s]\n"
     ]
    },
    {
     "name": "stdout",
     "output_type": "stream",
     "text": [
      "Epoch:21 Train Loss:1.4631890947940887 Validation Loss:1.4586094994294017\n"
     ]
    },
    {
     "name": "stderr",
     "output_type": "stream",
     "text": [
      "100%|██████████| 449/449 [00:31<00:00, 14.06it/s]\n",
      "100%|██████████| 57/57 [00:03<00:00, 16.02it/s]\n"
     ]
    },
    {
     "name": "stdout",
     "output_type": "stream",
     "text": [
      "Epoch:22 Train Loss:1.4605874157695302 Validation Loss:1.6181142220371647\n"
     ]
    },
    {
     "name": "stderr",
     "output_type": "stream",
     "text": [
      "100%|██████████| 449/449 [00:31<00:00, 14.16it/s]\n",
      "100%|██████████| 57/57 [00:03<00:00, 16.78it/s]\n"
     ]
    },
    {
     "name": "stdout",
     "output_type": "stream",
     "text": [
      "Epoch:23 Train Loss:1.460526710363698 Validation Loss:1.6056245283076638\n"
     ]
    },
    {
     "name": "stderr",
     "output_type": "stream",
     "text": [
      "100%|██████████| 449/449 [00:31<00:00, 14.13it/s]\n",
      "100%|██████████| 57/57 [00:03<00:00, 16.49it/s]\n"
     ]
    },
    {
     "name": "stdout",
     "output_type": "stream",
     "text": [
      "Epoch:24 Train Loss:1.454503550030341 Validation Loss:1.4547112782796223\n"
     ]
    },
    {
     "name": "stderr",
     "output_type": "stream",
     "text": [
      "100%|██████████| 449/449 [00:31<00:00, 14.19it/s]\n",
      "100%|██████████| 57/57 [00:03<00:00, 16.54it/s]\n"
     ]
    },
    {
     "name": "stdout",
     "output_type": "stream",
     "text": [
      "Epoch:25 Train Loss:1.4509214967290118 Validation Loss:1.4272502232016178\n"
     ]
    },
    {
     "name": "stderr",
     "output_type": "stream",
     "text": [
      "100%|██████████| 449/449 [00:32<00:00, 13.97it/s]\n",
      "100%|██████████| 57/57 [00:03<00:00, 16.03it/s]\n"
     ]
    },
    {
     "name": "stdout",
     "output_type": "stream",
     "text": [
      "Epoch:26 Train Loss:1.4521991832219148 Validation Loss:1.4260320433399134\n"
     ]
    },
    {
     "name": "stderr",
     "output_type": "stream",
     "text": [
      "100%|██████████| 449/449 [00:31<00:00, 14.18it/s]\n",
      "100%|██████████| 57/57 [00:03<00:00, 15.42it/s]\n"
     ]
    },
    {
     "name": "stdout",
     "output_type": "stream",
     "text": [
      "Epoch:27 Train Loss:1.449961055360552 Validation Loss:1.4768945229680914\n"
     ]
    },
    {
     "name": "stderr",
     "output_type": "stream",
     "text": [
      "100%|██████████| 449/449 [00:31<00:00, 14.12it/s]\n",
      "100%|██████████| 57/57 [00:03<00:00, 16.54it/s]\n"
     ]
    },
    {
     "name": "stdout",
     "output_type": "stream",
     "text": [
      "Epoch:28 Train Loss:1.4493868340362686 Validation Loss:1.4398655849590636\n"
     ]
    },
    {
     "name": "stderr",
     "output_type": "stream",
     "text": [
      "100%|██████████| 449/449 [00:32<00:00, 13.95it/s]\n",
      "100%|██████████| 57/57 [00:03<00:00, 16.99it/s]\n"
     ]
    },
    {
     "name": "stdout",
     "output_type": "stream",
     "text": [
      "Epoch:29 Train Loss:1.4500315874350362 Validation Loss:1.4384894611542685\n"
     ]
    },
    {
     "name": "stderr",
     "output_type": "stream",
     "text": [
      "100%|██████████| 449/449 [00:31<00:00, 14.31it/s]\n",
      "100%|██████████| 57/57 [00:03<00:00, 16.15it/s]\n"
     ]
    },
    {
     "name": "stdout",
     "output_type": "stream",
     "text": [
      "Epoch:30 Train Loss:1.4465855237901344 Validation Loss:1.4182595443307309\n"
     ]
    },
    {
     "name": "stderr",
     "output_type": "stream",
     "text": [
      "100%|██████████| 449/449 [00:31<00:00, 14.30it/s]\n",
      "100%|██████████| 57/57 [00:03<00:00, 15.45it/s]\n"
     ]
    },
    {
     "name": "stdout",
     "output_type": "stream",
     "text": [
      "Epoch:31 Train Loss:1.4453988168181184 Validation Loss:1.5197482767858004\n"
     ]
    },
    {
     "name": "stderr",
     "output_type": "stream",
     "text": [
      "100%|██████████| 449/449 [00:31<00:00, 14.47it/s]\n",
      "100%|██████████| 57/57 [00:03<00:00, 16.72it/s]\n"
     ]
    },
    {
     "name": "stdout",
     "output_type": "stream",
     "text": [
      "Epoch:32 Train Loss:1.4503250039765458 Validation Loss:1.4241572085179781\n"
     ]
    },
    {
     "name": "stderr",
     "output_type": "stream",
     "text": [
      "100%|██████████| 449/449 [00:31<00:00, 14.44it/s]\n",
      "100%|██████████| 57/57 [00:03<00:00, 16.77it/s]\n"
     ]
    },
    {
     "name": "stdout",
     "output_type": "stream",
     "text": [
      "Epoch:33 Train Loss:1.4454450421450133 Validation Loss:1.432173974681319\n"
     ]
    },
    {
     "name": "stderr",
     "output_type": "stream",
     "text": [
      "100%|██████████| 449/449 [00:31<00:00, 14.40it/s]\n",
      "100%|██████████| 57/57 [00:03<00:00, 16.94it/s]\n"
     ]
    },
    {
     "name": "stdout",
     "output_type": "stream",
     "text": [
      "Epoch:34 Train Loss:1.4397866147132652 Validation Loss:1.453789812431001\n"
     ]
    },
    {
     "name": "stderr",
     "output_type": "stream",
     "text": [
      "100%|██████████| 449/449 [00:31<00:00, 14.43it/s]\n",
      "100%|██████████| 57/57 [00:03<00:00, 17.07it/s]\n"
     ]
    },
    {
     "name": "stdout",
     "output_type": "stream",
     "text": [
      "Epoch:35 Train Loss:1.4406647010476128 Validation Loss:1.400099542057305\n"
     ]
    },
    {
     "name": "stderr",
     "output_type": "stream",
     "text": [
      "100%|██████████| 449/449 [00:30<00:00, 14.49it/s]\n",
      "100%|██████████| 57/57 [00:03<00:00, 16.97it/s]\n"
     ]
    },
    {
     "name": "stdout",
     "output_type": "stream",
     "text": [
      "Epoch:36 Train Loss:1.4394595110602262 Validation Loss:1.4334431928500795\n"
     ]
    },
    {
     "name": "stderr",
     "output_type": "stream",
     "text": [
      "100%|██████████| 449/449 [00:30<00:00, 14.53it/s]\n",
      "100%|██████████| 57/57 [00:03<00:00, 16.52it/s]\n"
     ]
    },
    {
     "name": "stdout",
     "output_type": "stream",
     "text": [
      "Epoch:37 Train Loss:1.4369561539460927 Validation Loss:1.4116077674062628\n"
     ]
    },
    {
     "name": "stderr",
     "output_type": "stream",
     "text": [
      "100%|██████████| 449/449 [00:30<00:00, 14.49it/s]\n",
      "100%|██████████| 57/57 [00:03<00:00, 16.73it/s]\n"
     ]
    },
    {
     "name": "stdout",
     "output_type": "stream",
     "text": [
      "Epoch:38 Train Loss:1.4379588463789637 Validation Loss:1.4114150007565816\n"
     ]
    },
    {
     "name": "stderr",
     "output_type": "stream",
     "text": [
      "100%|██████████| 449/449 [00:31<00:00, 14.17it/s]\n",
      "100%|██████████| 57/57 [00:03<00:00, 16.29it/s]\n"
     ]
    },
    {
     "name": "stdout",
     "output_type": "stream",
     "text": [
      "Epoch:39 Train Loss:1.4413469015622724 Validation Loss:1.4442915707303767\n"
     ]
    },
    {
     "name": "stderr",
     "output_type": "stream",
     "text": [
      "100%|██████████| 449/449 [00:31<00:00, 14.45it/s]\n",
      "100%|██████████| 57/57 [00:03<00:00, 16.71it/s]\n"
     ]
    },
    {
     "name": "stdout",
     "output_type": "stream",
     "text": [
      "Epoch:40 Train Loss:1.437529494608431 Validation Loss:1.3994314837874027\n"
     ]
    },
    {
     "name": "stderr",
     "output_type": "stream",
     "text": [
      "100%|██████████| 449/449 [00:31<00:00, 14.35it/s]\n",
      "100%|██████████| 57/57 [00:03<00:00, 16.85it/s]\n"
     ]
    },
    {
     "name": "stdout",
     "output_type": "stream",
     "text": [
      "Epoch:41 Train Loss:1.4416508377262107 Validation Loss:1.406581319215005\n"
     ]
    },
    {
     "name": "stderr",
     "output_type": "stream",
     "text": [
      "100%|██████████| 449/449 [00:31<00:00, 14.37it/s]\n",
      "100%|██████████| 57/57 [00:03<00:00, 16.61it/s]\n"
     ]
    },
    {
     "name": "stdout",
     "output_type": "stream",
     "text": [
      "Epoch:42 Train Loss:1.4360714155209888 Validation Loss:1.4678435827556409\n"
     ]
    },
    {
     "name": "stderr",
     "output_type": "stream",
     "text": [
      "100%|██████████| 449/449 [00:31<00:00, 14.24it/s]\n",
      "100%|██████████| 57/57 [00:03<00:00, 16.77it/s]\n"
     ]
    },
    {
     "name": "stdout",
     "output_type": "stream",
     "text": [
      "Epoch:43 Train Loss:1.434521743343243 Validation Loss:1.4761582518878735\n"
     ]
    },
    {
     "name": "stderr",
     "output_type": "stream",
     "text": [
      "100%|██████████| 449/449 [00:31<00:00, 14.36it/s]\n",
      "100%|██████████| 57/57 [00:03<00:00, 16.25it/s]\n"
     ]
    },
    {
     "name": "stdout",
     "output_type": "stream",
     "text": [
      "Epoch:44 Train Loss:1.4378550217252533 Validation Loss:1.402321273820442\n"
     ]
    },
    {
     "name": "stderr",
     "output_type": "stream",
     "text": [
      "100%|██████████| 449/449 [00:31<00:00, 14.26it/s]\n",
      "100%|██████████| 57/57 [00:03<00:00, 16.21it/s]\n"
     ]
    },
    {
     "name": "stdout",
     "output_type": "stream",
     "text": [
      "Epoch:45 Train Loss:1.4369366102600947 Validation Loss:1.423031979485562\n"
     ]
    },
    {
     "name": "stderr",
     "output_type": "stream",
     "text": [
      "100%|██████████| 449/449 [00:34<00:00, 13.16it/s]\n",
      "100%|██████████| 57/57 [00:03<00:00, 16.33it/s]\n"
     ]
    },
    {
     "name": "stdout",
     "output_type": "stream",
     "text": [
      "Epoch:46 Train Loss:1.4337163730825242 Validation Loss:1.4167261175942003\n"
     ]
    },
    {
     "name": "stderr",
     "output_type": "stream",
     "text": [
      "100%|██████████| 449/449 [00:29<00:00, 15.32it/s]\n",
      "100%|██████████| 57/57 [00:02<00:00, 19.56it/s]\n"
     ]
    },
    {
     "name": "stdout",
     "output_type": "stream",
     "text": [
      "Epoch:47 Train Loss:1.4327188042596082 Validation Loss:1.4624963695542854\n"
     ]
    },
    {
     "name": "stderr",
     "output_type": "stream",
     "text": [
      "100%|██████████| 449/449 [00:26<00:00, 16.71it/s]\n",
      "100%|██████████| 57/57 [00:03<00:00, 17.26it/s]\n"
     ]
    },
    {
     "name": "stdout",
     "output_type": "stream",
     "text": [
      "Epoch:48 Train Loss:1.4304945036138352 Validation Loss:1.4599056510548842\n"
     ]
    },
    {
     "name": "stderr",
     "output_type": "stream",
     "text": [
      "100%|██████████| 449/449 [00:26<00:00, 17.15it/s]\n",
      "100%|██████████| 57/57 [00:03<00:00, 18.62it/s]"
     ]
    },
    {
     "name": "stdout",
     "output_type": "stream",
     "text": [
      "Epoch:49 Train Loss:1.4363634243839833 Validation Loss:1.4309908799957811\n"
     ]
    },
    {
     "name": "stderr",
     "output_type": "stream",
     "text": [
      "\n"
     ]
    }
   ],
   "source": [
    "# Training The Model \n",
    "\n",
    "criterion = nn.CrossEntropyLoss()\n",
    "optimizer = torch.optim.SGD(model.parameters(), lr= 0.01)\n",
    "schedular = None \n",
    "\n",
    "trainer = Trainer(criterion, optimizer, schedular)\n",
    "trn_acc, val_acc, training_ls , validation_ls = trainer.fit(model, train_dl, valid_dl, epochs = 50)\n"
   ]
  },
  {
   "cell_type": "code",
   "execution_count": 39,
   "metadata": {
    "execution": {
     "iopub.execute_input": "2022-05-06T04:01:52.370864Z",
     "iopub.status.busy": "2022-05-06T04:01:52.370424Z",
     "iopub.status.idle": "2022-05-06T04:01:52.376772Z",
     "shell.execute_reply": "2022-05-06T04:01:52.375962Z",
     "shell.execute_reply.started": "2022-05-06T04:01:52.370825Z"
    }
   },
   "outputs": [
    {
     "name": "stdout",
     "output_type": "stream",
     "text": [
      "The list of the Training loss: [1.743596076434333, 1.6571394165268454, 1.6221877097552497, 1.5951960915181047, 1.570744712793482, 1.553332845192975, 1.5397314558050414, 1.5308406392821756, 1.522194157464467, 1.5137590552225941, 1.5046380885725297, 1.4981959166133856, 1.4937736008374356, 1.4867777577487291, 1.4822429941597919, 1.4768566233012619, 1.4737710450964674, 1.4698988156754085, 1.4703268773837186, 1.4657837970219636, 1.4623238196086246, 1.4631890947940887, 1.4605874157695302, 1.460526710363698, 1.454503550030341, 1.4509214967290118, 1.4521991832219148, 1.449961055360552, 1.4493868340362686, 1.4500315874350362, 1.4465855237901344, 1.4453988168181184, 1.4503250039765458, 1.4454450421450133, 1.4397866147132652, 1.4406647010476128, 1.4394595110602262, 1.4369561539460927, 1.4379588463789637, 1.4413469015622724, 1.437529494608431, 1.4416508377262107, 1.4360714155209888, 1.434521743343243, 1.4378550217252533, 1.4369366102600947, 1.4337163730825242, 1.4327188042596082, 1.4304945036138352, 1.4363634243839833]\n",
      "The List of the Validation Loss: [1.6958199132952774, 1.6285883815664994, 1.5976812483971579, 1.5613328720393933, 1.875020100882179, 1.52201090047234, 1.536952441198784, 1.554647187391917, 1.4910203887705218, 1.4749047076492978, 1.470360859444267, 1.564316219405124, 1.6044637231450332, 1.5970486465253328, 1.577554834516425, 1.5744033257166545, 1.5036229804942483, 1.450594729498813, 1.5410848824601424, 1.433907989870038, 1.641920539893602, 1.4586094994294017, 1.6181142220371647, 1.6056245283076638, 1.4547112782796223, 1.4272502232016178, 1.4260320433399134, 1.4768945229680914, 1.4398655849590636, 1.4384894611542685, 1.4182595443307309, 1.5197482767858004, 1.4241572085179781, 1.432173974681319, 1.453789812431001, 1.400099542057305, 1.4334431928500795, 1.4116077674062628, 1.4114150007565816, 1.4442915707303767, 1.3994314837874027, 1.406581319215005, 1.4678435827556409, 1.4761582518878735, 1.402321273820442, 1.423031979485562, 1.4167261175942003, 1.4624963695542854, 1.4599056510548842, 1.4309908799957811]\n"
     ]
    }
   ],
   "source": [
    "print (\"The list of the Training loss:\", training_ls)\n",
    "print (\"The List of the Validation Loss:\", validation_ls)"
   ]
  },
  {
   "cell_type": "code",
   "execution_count": 40,
   "metadata": {
    "execution": {
     "iopub.execute_input": "2022-05-06T04:01:52.378554Z",
     "iopub.status.busy": "2022-05-06T04:01:52.378075Z",
     "iopub.status.idle": "2022-05-06T04:01:52.390291Z",
     "shell.execute_reply": "2022-05-06T04:01:52.389514Z",
     "shell.execute_reply.started": "2022-05-06T04:01:52.378471Z"
    }
   },
   "outputs": [
    {
     "name": "stdout",
     "output_type": "stream",
     "text": [
      "Train Accuracy:[0.290941205682297, 0.34894547944380905, 0.37019201829892256, 0.3829643953530368, 0.39384066694757114, 0.3998261903328718, 0.4093640898693794, 0.41177466441943056, 0.4172193839162102, 0.4220537004153374, 0.4274598582435442, 0.4261722747246133, 0.43006982483597184, 0.4338695599831457, 0.4321013663998074, 0.43575155751519895, 0.4382796981279721, 0.44155743995666047, 0.4360779209053151, 0.44150006771805217, 0.4435466577379161, 0.4409752528140613, 0.44146526816348647, 0.4442774483837958, 0.44571081382050204, 0.44650556040450246, 0.44460663335941736, 0.44572962439053754, 0.44677361102750857, 0.448260586588816, 0.45023475591404327, 0.449677963040992, 0.4454578116535243, 0.4504473153554445, 0.45174712574489856, 0.4534428986336002, 0.455888272738217, 0.4557396692349365, 0.4517659363149341, 0.4502855444531391, 0.4535472972972973, 0.4506401236983086, 0.45364887437548906, 0.4543505086378138, 0.45072571179197013, 0.45319930175164025, 0.45502486757358696, 0.45511327725275386, 0.4559230722927827, 0.4547173147535063] Validation Accuracy:[0.30701754385964913, 0.37187499999999996, 0.39457236842105264, 0.41639254385964913, 0.2619517543859649, 0.4141995614035088, 0.40559210526315786, 0.40849780701754385, 0.43338815789473684, 0.4317982456140351, 0.44084429824561405, 0.4041666666666667, 0.4016995614035088, 0.3830592105263158, 0.39835526315789477, 0.4106359649122807, 0.44413377192982456, 0.44846491228070173, 0.4279605263157895, 0.45975877192982456, 0.3869517543859649, 0.453125, 0.3990131578947368, 0.4178179824561404, 0.44391447368421055, 0.4575109649122807, 0.45455043859649125, 0.43508771929824563, 0.45893640350877196, 0.46008771929824566, 0.47368421052631576, 0.43974780701754385, 0.47341008771929827, 0.4660635964912281, 0.4600328947368421, 0.4770285087719298, 0.46710526315789475, 0.4772478070175439, 0.47341008771929827, 0.45783991228070176, 0.4777960526315789, 0.47648026315789477, 0.4474780701754386, 0.4449561403508772, 0.4770285087719298, 0.46907894736842104, 0.46825657894736844, 0.45537280701754385, 0.4561951754385965, 0.4613486842105263]\n"
     ]
    }
   ],
   "source": [
    "print (\"Train Accuracy:{}\".format(trn_acc), \"Validation Accuracy:{}\".format(val_acc))"
   ]
  },
  {
   "cell_type": "code",
   "execution_count": 51,
   "metadata": {
    "execution": {
     "iopub.execute_input": "2022-05-06T04:05:38.800761Z",
     "iopub.status.busy": "2022-05-06T04:05:38.799963Z",
     "iopub.status.idle": "2022-05-06T04:05:38.806291Z",
     "shell.execute_reply": "2022-05-06T04:05:38.804979Z",
     "shell.execute_reply.started": "2022-05-06T04:05:38.800720Z"
    }
   },
   "outputs": [],
   "source": []
  },
  {
   "cell_type": "code",
   "execution_count": 53,
   "metadata": {
    "execution": {
     "iopub.execute_input": "2022-05-06T04:06:09.878880Z",
     "iopub.status.busy": "2022-05-06T04:06:09.878515Z",
     "iopub.status.idle": "2022-05-06T04:06:10.180915Z",
     "shell.execute_reply": "2022-05-06T04:06:10.180096Z",
     "shell.execute_reply.started": "2022-05-06T04:06:09.878836Z"
    }
   },
   "outputs": [
    {
     "data": {
      "image/png": "[encoded data removed]",
      "text/plain": [
       "<Figure size 432x288 with 1 Axes>"
      ]
     },
     "metadata": {
      "needs_background": "light"
     },
     "output_type": "display_data"
    }
   ],
   "source": [
    "# Plotting Train Loss and Validation Loss\n",
    "plt.plot(training_ls, label ='Training loss')\n",
    "plt.plot(validation_ls, label ='Validation loss')\n",
    "\n",
    "\n",
    "plt.legend()\n",
    "plt.show()"
   ]
  },
  {
   "cell_type": "code",
   "execution_count": 42,
   "metadata": {
    "execution": {
     "iopub.execute_input": "2022-05-06T04:01:52.568337Z",
     "iopub.status.busy": "2022-05-06T04:01:52.568055Z",
     "iopub.status.idle": "2022-05-06T04:01:52.572700Z",
     "shell.execute_reply": "2022-05-06T04:01:52.571907Z",
     "shell.execute_reply.started": "2022-05-06T04:01:52.568303Z"
    }
   },
   "outputs": [
    {
     "name": "stdout",
     "output_type": "stream",
     "text": [
      "[0.290941205682297, 0.34894547944380905, 0.37019201829892256, 0.3829643953530368, 0.39384066694757114, 0.3998261903328718, 0.4093640898693794, 0.41177466441943056, 0.4172193839162102, 0.4220537004153374, 0.4274598582435442, 0.4261722747246133, 0.43006982483597184, 0.4338695599831457, 0.4321013663998074, 0.43575155751519895, 0.4382796981279721, 0.44155743995666047, 0.4360779209053151, 0.44150006771805217, 0.4435466577379161, 0.4409752528140613, 0.44146526816348647, 0.4442774483837958, 0.44571081382050204, 0.44650556040450246, 0.44460663335941736, 0.44572962439053754, 0.44677361102750857, 0.448260586588816, 0.45023475591404327, 0.449677963040992, 0.4454578116535243, 0.4504473153554445, 0.45174712574489856, 0.4534428986336002, 0.455888272738217, 0.4557396692349365, 0.4517659363149341, 0.4502855444531391, 0.4535472972972973, 0.4506401236983086, 0.45364887437548906, 0.4543505086378138, 0.45072571179197013, 0.45319930175164025, 0.45502486757358696, 0.45511327725275386, 0.4559230722927827, 0.4547173147535063]\n"
     ]
    }
   ],
   "source": [
    "print(trn_acc)"
   ]
  },
  {
   "cell_type": "code",
   "execution_count": 54,
   "metadata": {
    "execution": {
     "iopub.execute_input": "2022-05-06T04:06:56.570987Z",
     "iopub.status.busy": "2022-05-06T04:06:56.570700Z",
     "iopub.status.idle": "2022-05-06T04:06:56.576560Z",
     "shell.execute_reply": "2022-05-06T04:06:56.575313Z",
     "shell.execute_reply.started": "2022-05-06T04:06:56.570955Z"
    }
   },
   "outputs": [],
   "source": [
    "trainacc = [val*100 for val in trn_acc]\n",
    "valacc = [val*100 for val in val_acc]"
   ]
  },
  {
   "cell_type": "code",
   "execution_count": 55,
   "metadata": {
    "execution": {
     "iopub.execute_input": "2022-05-06T04:06:58.046936Z",
     "iopub.status.busy": "2022-05-06T04:06:58.046660Z",
     "iopub.status.idle": "2022-05-06T04:06:58.250430Z",
     "shell.execute_reply": "2022-05-06T04:06:58.249633Z",
     "shell.execute_reply.started": "2022-05-06T04:06:58.046905Z"
    }
   },
   "outputs": [
    {
     "data": {
      "image/png": "[encoded data removed]",
      "text/plain": [
       "<Figure size 432x288 with 1 Axes>"
      ]
     },
     "metadata": {
      "needs_background": "light"
     },
     "output_type": "display_data"
    }
   ],
   "source": [
    "# Plotting Train accuracy and Validation accuracy\n",
    "plt.plot(trainacc, label = 'training accuracy')\n",
    "plt.plot(valacc, label = 'validation accuracy')\n",
    "\n",
    "plt.legend()\n",
    "plt.show()"
   ]
  },
  {
   "cell_type": "code",
   "execution_count": 44,
   "metadata": {
    "execution": {
     "iopub.execute_input": "2022-05-06T04:01:52.750457Z",
     "iopub.status.busy": "2022-05-06T04:01:52.750040Z",
     "iopub.status.idle": "2022-05-06T04:01:56.112635Z",
     "shell.execute_reply": "2022-05-06T04:01:56.111378Z",
     "shell.execute_reply.started": "2022-05-06T04:01:52.750418Z"
    }
   },
   "outputs": [
    {
     "name": "stderr",
     "output_type": "stream",
     "text": [
      "100%|██████████| 57/57 [00:03<00:00, 17.00it/s]\n"
     ]
    }
   ],
   "source": [
    "# Checking on Test Data\n",
    "\n",
    "model.eval()\n",
    "predictions , labels ,avg_test_acc, avg_test_loss = trainer.test_batch_loop(model, test_dl)"
   ]
  },
  {
   "cell_type": "code",
   "execution_count": 45,
   "metadata": {
    "execution": {
     "iopub.execute_input": "2022-05-06T04:01:56.114348Z",
     "iopub.status.busy": "2022-05-06T04:01:56.114001Z",
     "iopub.status.idle": "2022-05-06T04:01:56.119449Z",
     "shell.execute_reply": "2022-05-06T04:01:56.118752Z",
     "shell.execute_reply.started": "2022-05-06T04:01:56.114309Z"
    }
   },
   "outputs": [
    {
     "name": "stdout",
     "output_type": "stream",
     "text": [
      "0.4576754385964912\n",
      "1.4321369016379641\n"
     ]
    }
   ],
   "source": [
    "print (avg_test_acc)\n",
    "print (avg_test_loss)"
   ]
  },
  {
   "cell_type": "code",
   "execution_count": 62,
   "metadata": {
    "execution": {
     "iopub.execute_input": "2022-05-06T04:24:44.793032Z",
     "iopub.status.busy": "2022-05-06T04:24:44.792712Z",
     "iopub.status.idle": "2022-05-06T04:24:44.797557Z",
     "shell.execute_reply": "2022-05-06T04:24:44.796164Z",
     "shell.execute_reply.started": "2022-05-06T04:24:44.792979Z"
    }
   },
   "outputs": [],
   "source": [
    "from sklearn.metrics import classification_report"
   ]
  },
  {
   "cell_type": "code",
   "execution_count": 63,
   "metadata": {
    "execution": {
     "iopub.execute_input": "2022-05-06T04:24:58.744215Z",
     "iopub.status.busy": "2022-05-06T04:24:58.743344Z",
     "iopub.status.idle": "2022-05-06T04:24:58.781068Z",
     "shell.execute_reply": "2022-05-06T04:24:58.779964Z",
     "shell.execute_reply.started": "2022-05-06T04:24:58.744172Z"
    }
   },
   "outputs": [
    {
     "ename": "ValueError",
     "evalue": "zero-dimensional arrays cannot be concatenated",
     "output_type": "error",
     "traceback": [
      "\u001b[0;31m---------------------------------------------------------------------------\u001b[0m",
      "\u001b[0;31mValueError\u001b[0m                                Traceback (most recent call last)",
      "\u001b[0;32m/tmp/ipykernel_33/2037551135.py\u001b[0m in \u001b[0;36m<module>\u001b[0;34m\u001b[0m\n\u001b[0;32m----> 1\u001b[0;31m \u001b[0mpredictions\u001b[0m \u001b[0;34m=\u001b[0m \u001b[0mnp\u001b[0m\u001b[0;34m.\u001b[0m\u001b[0mconcatenate\u001b[0m\u001b[0;34m(\u001b[0m\u001b[0mpredictions\u001b[0m\u001b[0;34m,\u001b[0m \u001b[0maxis\u001b[0m \u001b[0;34m=\u001b[0m \u001b[0;36m0\u001b[0m\u001b[0;34m)\u001b[0m\u001b[0;34m\u001b[0m\u001b[0;34m\u001b[0m\u001b[0m\n\u001b[0m\u001b[1;32m      2\u001b[0m \u001b[0mlabels\u001b[0m \u001b[0;34m=\u001b[0m \u001b[0mnp\u001b[0m\u001b[0;34m.\u001b[0m\u001b[0mconcatenate\u001b[0m\u001b[0;34m(\u001b[0m\u001b[0mlabels\u001b[0m\u001b[0;34m,\u001b[0m\u001b[0maxis\u001b[0m \u001b[0;34m=\u001b[0m \u001b[0;36m0\u001b[0m\u001b[0;34m)\u001b[0m\u001b[0;34m\u001b[0m\u001b[0;34m\u001b[0m\u001b[0m\n\u001b[1;32m      3\u001b[0m \u001b[0;34m\u001b[0m\u001b[0m\n\u001b[1;32m      4\u001b[0m \u001b[0mprint\u001b[0m\u001b[0;34m(\u001b[0m\u001b[0mlen\u001b[0m\u001b[0;34m(\u001b[0m\u001b[0mlabels\u001b[0m\u001b[0;34m)\u001b[0m\u001b[0;34m)\u001b[0m\u001b[0;34m\u001b[0m\u001b[0;34m\u001b[0m\u001b[0m\n\u001b[1;32m      5\u001b[0m \u001b[0mprint\u001b[0m\u001b[0;34m(\u001b[0m\u001b[0mlen\u001b[0m\u001b[0;34m(\u001b[0m\u001b[0mpredictions\u001b[0m\u001b[0;34m)\u001b[0m\u001b[0;34m)\u001b[0m\u001b[0;34m\u001b[0m\u001b[0;34m\u001b[0m\u001b[0m\n",
      "\u001b[0;32m<__array_function__ internals>\u001b[0m in \u001b[0;36mconcatenate\u001b[0;34m(*args, **kwargs)\u001b[0m\n",
      "\u001b[0;31mValueError\u001b[0m: zero-dimensional arrays cannot be concatenated"
     ]
    }
   ],
   "source": [
    "predictions = np.concatenate(predictions, axis = 0)\n",
    "labels = np.concatenate(labels,axis = 0)\n",
    "\n",
    "print(len(labels))\n",
    "print(len(predictions))\n",
    "\n",
    "print(accuracy_score(labels, predictions))\n",
    "print(classification_report(labels, predictions))\n",
    "\n"
   ]
  },
  {
   "cell_type": "code",
   "execution_count": 64,
   "metadata": {
    "execution": {
     "iopub.execute_input": "2022-05-06T04:25:18.798397Z",
     "iopub.status.busy": "2022-05-06T04:25:18.798114Z",
     "iopub.status.idle": "2022-05-06T04:25:18.819619Z",
     "shell.execute_reply": "2022-05-06T04:25:18.818733Z",
     "shell.execute_reply.started": "2022-05-06T04:25:18.798365Z"
    }
   },
   "outputs": [
    {
     "name": "stdout",
     "output_type": "stream",
     "text": [
      "0.45862357202563386\n",
      "              precision    recall  f1-score   support\n",
      "\n",
      "           0       0.40      0.24      0.30       491\n",
      "           1       0.00      0.00      0.00        55\n",
      "           2       0.34      0.17      0.23       528\n",
      "           3       0.63      0.72      0.67       879\n",
      "           4       0.32      0.40      0.36       594\n",
      "           5       0.70      0.43      0.53       416\n",
      "           6       0.38      0.62      0.47       626\n",
      "\n",
      "    accuracy                           0.46      3589\n",
      "   macro avg       0.40      0.37      0.37      3589\n",
      "weighted avg       0.46      0.46      0.44      3589\n",
      "\n"
     ]
    },
    {
     "name": "stderr",
     "output_type": "stream",
     "text": [
      "/opt/conda/lib/python3.7/site-packages/sklearn/metrics/_classification.py:1318: UndefinedMetricWarning: Precision and F-score are ill-defined and being set to 0.0 in labels with no predicted samples. Use `zero_division` parameter to control this behavior.\n",
      "  _warn_prf(average, modifier, msg_start, len(result))\n",
      "/opt/conda/lib/python3.7/site-packages/sklearn/metrics/_classification.py:1318: UndefinedMetricWarning: Precision and F-score are ill-defined and being set to 0.0 in labels with no predicted samples. Use `zero_division` parameter to control this behavior.\n",
      "  _warn_prf(average, modifier, msg_start, len(result))\n",
      "/opt/conda/lib/python3.7/site-packages/sklearn/metrics/_classification.py:1318: UndefinedMetricWarning: Precision and F-score are ill-defined and being set to 0.0 in labels with no predicted samples. Use `zero_division` parameter to control this behavior.\n",
      "  _warn_prf(average, modifier, msg_start, len(result))\n"
     ]
    }
   ],
   "source": [
    "print(accuracy_score(labels, predictions))\n",
    "print(classification_report(labels, predictions))"
   ]
  },
  {
   "cell_type": "code",
   "execution_count": 58,
   "metadata": {
    "execution": {
     "iopub.execute_input": "2022-05-06T04:12:01.337491Z",
     "iopub.status.busy": "2022-05-06T04:12:01.337145Z",
     "iopub.status.idle": "2022-05-06T04:12:01.850754Z",
     "shell.execute_reply": "2022-05-06T04:12:01.849983Z",
     "shell.execute_reply.started": "2022-05-06T04:12:01.337456Z"
    }
   },
   "outputs": [
    {
     "name": "stdout",
     "output_type": "stream",
     "text": [
      "Each class accuracies\n",
      "[0.23828921 0.         0.17045455 0.72241183 0.4023569  0.42548077\n",
      " 0.61980831]\n"
     ]
    },
    {
     "data": {
      "image/png": "[encoded data removed]",
      "text/plain": [
       "<Figure size 648x432 with 2 Axes>"
      ]
     },
     "metadata": {
      "needs_background": "light"
     },
     "output_type": "display_data"
    }
   ],
   "source": [
    "\n",
    "plt.figure(figsize = (9,6))\n",
    "class_names = ['Anger', 'Disgust', 'Fear', 'Happy', 'Sad', 'Surprise','Neutral']\n",
    "cm = confusion_matrix(labels , predictions)\n",
    "df_cm = pd.DataFrame(cm,class_names,class_names)\n",
    "ax= plt.subplot()\n",
    "sns.heatmap(df_cm, annot=True, fmt='g', ax=ax , cmap = \"BuGn\");\n",
    "\n",
    "print(\"Each class accuracies\")\n",
    "print((cm.diagonal()/cm.sum(axis=1)))"
   ]
  },
  {
   "cell_type": "code",
   "execution_count": 60,
   "metadata": {
    "execution": {
     "iopub.execute_input": "2022-05-06T04:12:14.197352Z",
     "iopub.status.busy": "2022-05-06T04:12:14.196665Z",
     "iopub.status.idle": "2022-05-06T04:12:14.636693Z",
     "shell.execute_reply": "2022-05-06T04:12:14.635877Z",
     "shell.execute_reply.started": "2022-05-06T04:12:14.197278Z"
    }
   },
   "outputs": [
    {
     "data": {
      "image/png": "[encoded data removed]",
      "text/plain": [
       "<Figure size 648x432 with 2 Axes>"
      ]
     },
     "metadata": {
      "needs_background": "light"
     },
     "output_type": "display_data"
    }
   ],
   "source": [
    "plt.figure(figsize = (9,6))\n",
    "ax1 = plt.subplot()\n",
    "sns.heatmap(df_cm/np.sum(df_cm), annot=True, fmt='.2%', ax=ax1 , cmap = \"BuGn\");\n",
    "plt.show()"
   ]
  },
  {
   "cell_type": "code",
   "execution_count": 49,
   "metadata": {
    "execution": {
     "iopub.execute_input": "2022-05-06T04:01:57.155620Z",
     "iopub.status.busy": "2022-05-06T04:01:57.155133Z",
     "iopub.status.idle": "2022-05-06T04:01:57.163548Z",
     "shell.execute_reply": "2022-05-06T04:01:57.162668Z",
     "shell.execute_reply.started": "2022-05-06T04:01:57.155556Z"
    }
   },
   "outputs": [
    {
     "data": {
      "text/plain": [
       "array([[[2926,  172],\n",
       "        [ 374,  117]],\n",
       "\n",
       "       [[3534,    0],\n",
       "        [  55,    0]],\n",
       "\n",
       "       [[2889,  172],\n",
       "        [ 438,   90]],\n",
       "\n",
       "       [[2337,  373],\n",
       "        [ 244,  635]],\n",
       "\n",
       "       [[2484,  511],\n",
       "        [ 355,  239]],\n",
       "\n",
       "       [[3097,   76],\n",
       "        [ 239,  177]],\n",
       "\n",
       "       [[2324,  639],\n",
       "        [ 238,  388]]])"
      ]
     },
     "execution_count": 49,
     "metadata": {},
     "output_type": "execute_result"
    }
   ],
   "source": [
    "multilabel_confusion_matrix(labels , predictions)"
   ]
  },
  {
   "cell_type": "code",
   "execution_count": 50,
   "metadata": {
    "execution": {
     "iopub.execute_input": "2022-05-06T04:01:57.165282Z",
     "iopub.status.busy": "2022-05-06T04:01:57.164964Z",
     "iopub.status.idle": "2022-05-06T04:01:57.184434Z",
     "shell.execute_reply": "2022-05-06T04:01:57.183703Z",
     "shell.execute_reply.started": "2022-05-06T04:01:57.165195Z"
    }
   },
   "outputs": [
    {
     "name": "stdout",
     "output_type": "stream",
     "text": [
      "              precision    recall  f1-score   support\n",
      "\n",
      "           0       0.40      0.24      0.30       491\n",
      "           1       0.00      0.00      0.00        55\n",
      "           2       0.34      0.17      0.23       528\n",
      "           3       0.63      0.72      0.67       879\n",
      "           4       0.32      0.40      0.36       594\n",
      "           5       0.70      0.43      0.53       416\n",
      "           6       0.38      0.62      0.47       626\n",
      "\n",
      "    accuracy                           0.46      3589\n",
      "   macro avg       0.40      0.37      0.37      3589\n",
      "weighted avg       0.46      0.46      0.44      3589\n",
      "\n"
     ]
    },
    {
     "name": "stderr",
     "output_type": "stream",
     "text": [
      "/opt/conda/lib/python3.7/site-packages/sklearn/metrics/_classification.py:1318: UndefinedMetricWarning: Precision and F-score are ill-defined and being set to 0.0 in labels with no predicted samples. Use `zero_division` parameter to control this behavior.\n",
      "  _warn_prf(average, modifier, msg_start, len(result))\n",
      "/opt/conda/lib/python3.7/site-packages/sklearn/metrics/_classification.py:1318: UndefinedMetricWarning: Precision and F-score are ill-defined and being set to 0.0 in labels with no predicted samples. Use `zero_division` parameter to control this behavior.\n",
      "  _warn_prf(average, modifier, msg_start, len(result))\n",
      "/opt/conda/lib/python3.7/site-packages/sklearn/metrics/_classification.py:1318: UndefinedMetricWarning: Precision and F-score are ill-defined and being set to 0.0 in labels with no predicted samples. Use `zero_division` parameter to control this behavior.\n",
      "  _warn_prf(average, modifier, msg_start, len(result))\n"
     ]
    }
   ],
   "source": [
    "print(classification_report(labels,predictions))"
   ]
  },
  {
   "cell_type": "code",
   "execution_count": null,
   "metadata": {},
   "outputs": [],
   "source": []
  },
  {
   "cell_type": "code",
   "execution_count": null,
   "metadata": {},
   "outputs": [],
   "source": []
  },
  {
   "cell_type": "code",
   "execution_count": null,
   "metadata": {},
   "outputs": [],
   "source": []
  },
  {
   "cell_type": "code",
   "execution_count": null,
   "metadata": {},
   "outputs": [],
   "source": []
  },
  {
   "cell_type": "code",
   "execution_count": null,
   "metadata": {},
   "outputs": [],
   "source": []
  },
  {
   "cell_type": "code",
   "execution_count": null,
   "metadata": {},
   "outputs": [],
   "source": []
  },
  {
   "cell_type": "code",
   "execution_count": null,
   "metadata": {},
   "outputs": [],
   "source": []
  },
  {
   "cell_type": "code",
   "execution_count": null,
   "metadata": {},
   "outputs": [],
   "source": []
  },
  {
   "cell_type": "code",
   "execution_count": null,
   "metadata": {},
   "outputs": [],
   "source": []
  }
 ],
 "metadata": {
  "kernelspec": {
   "display_name": "Python 3",
   "language": "python",
   "name": "python3"
  },
  "language_info": {
   "codemirror_mode": {
    "name": "ipython",
    "version": 3
   },
   "file_extension": ".py",
   "mimetype": "text/x-python",
   "name": "python",
   "nbconvert_exporter": "python",
   "pygments_lexer": "ipython3",
   "version": "3.6.8"
  }
 },
 "nbformat": 4,
 "nbformat_minor": 4
}
